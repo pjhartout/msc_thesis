{
 "cells": [
  {
   "cell_type": "code",
   "execution_count": null,
   "id": "d65b0cb1-b6c8-4b72-a53f-d50a23168e59",
   "metadata": {},
   "outputs": [],
   "source": [
    "import numpy\n",
    "import itertools\n",
    "from Bio.PDB.PDBParser import PDBParser\n",
    "from gnn_metrics.paths import HUMAN_PROTEOME\n",
    "\n",
    "parser = PDBParser()\n",
    "structure = parser.get_structure(\"AF-V9GZ13-F1-model_v2\", HUMAN_PROTEOME / \"AF-V9GZ13-F1-model_v2.pdb\")\n",
    "\n",
    "residues = [r for r in structure.get_residues() if r.get_id()[0] == \" \"]\n",
    "for each in itertools.combinations(residues, 2):\n",
    "    one  = each[0][\"CA\"].get_coord()\n",
    "    two = each[1][\"CA\"].get_coord()\n",
    "    \n",
    "    print('{} - {} = {}'.format(one,two, numpy.linalg.norm(one-two)))\n",
    "    "
   ]
  },
  {
   "cell_type": "code",
   "execution_count": null,
   "id": "26f745b2-5ec0-417e-9acf-dfa1809e95c4",
   "metadata": {},
   "outputs": [],
   "source": []
  },
  {
   "cell_type": "code",
   "execution_count": null,
   "id": "20aba21c-cb0c-47d0-845a-d886abbf88bc",
   "metadata": {},
   "outputs": [],
   "source": []
  }
 ],
 "metadata": {
  "kernelspec": {
   "display_name": "msc-thesis-8DJZ7_li-py3.9",
   "language": "python",
   "name": "msc-thesis-8djz7_li-py3.9"
  },
  "language_info": {
   "codemirror_mode": {
    "name": "ipython",
    "version": 3
   },
   "file_extension": ".py",
   "mimetype": "text/x-python",
   "name": "python",
   "nbconvert_exporter": "python",
   "pygments_lexer": "ipython3",
   "version": "3.9.7"
  }
 },
 "nbformat": 4,
 "nbformat_minor": 5
}
