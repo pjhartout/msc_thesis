{
 "cells": [
  {
   "cell_type": "markdown",
   "metadata": {},
   "source": [
    "# Results part 1\n",
    "\n",
    "This will constitute the first part of the results section. Basically the point here is to say \"on highly structured graphs such as the ones used| here, mmd behaves pretty well.\""
   ]
  },
  {
   "cell_type": "code",
   "execution_count": null,
   "metadata": {},
   "outputs": [],
   "source": [
    "import numpy as np\n",
    "import seaborn as sns\n",
    "import pandas as pd\n",
    "from pyprojroot import here\n",
    "from pathlib import Path\n",
    "import matplotlib.pyplot as plt"
   ]
  },
  {
   "cell_type": "code",
   "execution_count": null,
   "metadata": {},
   "outputs": [],
   "source": [
    "clustering_eps_8 = (\n",
    "    here()\n",
    "    / \"data/systematic/human/fixed_length_kernels/eps_graph/8/gaussian_noise/clustering_histogram/gaussian_noise_mmds.csv\"\n",
    ")\n",
    "clustering_eps_16 = (\n",
    "    here()\n",
    "    / \"data/systematic/human/fixed_length_kernels/eps_graph/16/gaussian_noise/clustering_histogram/gaussian_noise_mmds.csv\"\n",
    ")\n",
    "clustering_eps_32 = (\n",
    "    here()\n",
    "    / \"data/systematic/human/fixed_length_kernels/eps_graph/32/gaussian_noise/clustering_histogram/gaussian_noise_mmds.csv\"\n",
    ")\n"
   ]
  },
  {
   "cell_type": "code",
   "execution_count": null,
   "metadata": {},
   "outputs": [],
   "source": [
    "def build_plot(path: Path) -> None:\n",
    "    df = pd.read_csv(path)\n",
    "    gauss_kernel_cols = [\n",
    "        col for col in df.columns if \"sigma\" in col or \"linear\" in col\n",
    "    ]\n",
    "    for col in gauss_kernel_cols:\n",
    "        # Normalize\n",
    "        df[col] = (df[col] - df[col].min()) / (df[col].max() - df[col].min())\n",
    "\n",
    "    df = df.melt(\n",
    "        id_vars=[\"run\", \"perturb\"], var_name=\"kernel\", value_name=\"mmd\"\n",
    "    )\n",
    "    df.rename(columns={\"perturb\": r\"Std. ($\\AA$)\"}, inplace=True)\n",
    "\n",
    "    # parsed_path = str(path).split(\"/\")\n",
    "    # descriptor = handle_descriptor(parsed_path[-2])\n",
    "    # perturbation = handle_perturbation(parsed_path[-3])\n",
    "    # extraction_param = parsed_path[-4]\n",
    "    # representation = handle_representation(parsed_path[-5])\n",
    "\n",
    "    # Clean up kernel names\n",
    "    # df.kernel = df.kernel.str.replace(\"linear_kernel\", \"Linear Kernel\")\n",
    "    # df.kernel = df.kernel.str.replace(\"sigma=\", \"Gaussian kernel sigma =\")\n",
    "    df = df.rename(columns={\"mmd\": \"MMD\",},)\n",
    "    # Initialize a grid of plots with an Axes for each kernel config\n",
    "    palette = sns.color_palette(\"mako_r\", df.kernel.nunique())\n",
    "    g = sns.relplot(\n",
    "        data=df,\n",
    "        x=r\"Std. ($\\AA$)\",\n",
    "        y=\"MMD\",\n",
    "        col=\"kernel\",\n",
    "        hue=\"kernel\",\n",
    "        kind=\"line\",\n",
    "        col_wrap=4,\n",
    "        height=2.7,\n",
    "        aspect=0.8,\n",
    "        palette=palette,\n",
    "        ci=100,\n",
    "    )\n",
    "    # g.fig.suptitle(\n",
    "    #     build_title(\n",
    "    #         descriptor, perturbation, representation, extraction_param\n",
    "    #     ),\n",
    "    #     fontsize=16,\n",
    "    # )\n",
    "\n",
    "    plt.legend([], [], frameon=False)\n",
    "    g.legend.remove()\n",
    "    titles = [\n",
    "        1.0e-05,\n",
    "        1.0e-04,\n",
    "        1.0e-03,\n",
    "        1.0e-02,\n",
    "        1.0e-01,\n",
    "        1,\n",
    "        1.0e02,\n",
    "        1.0e03,\n",
    "        1.0e04,\n",
    "        1.0e05,\n",
    "        0,\n",
    "    ]\n",
    "    for i, ax in enumerate(g.axes.flatten()):\n",
    "        if titles[i] != 0:\n",
    "            ax.set_title(r\"RBF Kernel $\\sigma$ \" + f\" = {titles[i]}\")\n",
    "        else:\n",
    "            ax.set_title(f\"Linear Kernel\")\n",
    "    # plt.title(\"Test\")\n",
    "    plt.tight_layout()"
   ]
  },
  {
   "cell_type": "code",
   "execution_count": null,
   "metadata": {},
   "outputs": [],
   "source": [
    "build_plot(clustering_eps_8)\n",
    "build_plot(clustering_eps_16)\n",
    "build_plot(clustering_eps_32)"
   ]
  },
  {
   "cell_type": "code",
   "execution_count": null,
   "metadata": {},
   "outputs": [],
   "source": [
    "degree_eps_8 = (\n",
    "    here()\n",
    "    / \"data/systematic/human/fixed_length_kernels/eps_graph/8/gaussian_noise/degree_histogram/gaussian_noise_mmds.csv\"\n",
    ")\n",
    "degree_eps_16 = (\n",
    "    here()\n",
    "    / \"data/systematic/human/fixed_length_kernels/eps_graph/16/gaussian_noise/degree_histogram/gaussian_noise_mmds.csv\"\n",
    ")\n",
    "degree_eps_32 = (\n",
    "    here()\n",
    "    / \"data/systematic/human/fixed_length_kernels/eps_graph/32/gaussian_noise/degree_histogram/gaussian_noise_mmds.csv\"\n",
    ")\n",
    "build_plot(degree_eps_8)\n",
    "build_plot(degree_eps_16)\n",
    "build_plot(degree_eps_32)\n"
   ]
  },
  {
   "cell_type": "code",
   "execution_count": null,
   "metadata": {},
   "outputs": [],
   "source": [
    "def normalize(df):\n",
    "    cols = [col for col in df.columns if \"run\" not in col]\n",
    "    for col in df.columns:\n",
    "        df[col] = (df[col] - df[col].min()) / (df[col].max() - df[col].min())\n",
    "    return df"
   ]
  },
  {
   "cell_type": "code",
   "execution_count": null,
   "metadata": {},
   "outputs": [],
   "source": [
    "add_edges = normalize(pd.read_csv(here() / \"data/systematic/human/fixed_length_kernels/eps_graph/8/add_edges/clustering_histogram/add_edges_mmds.csv\"))\n",
    "gaussian_noise = normalize(pd.read_csv(here() / \"data/systematic/human/fixed_length_kernels/eps_graph/8/gaussian_noise/clustering_histogram/gaussian_noise_mmds.csv\"))\n",
    "remove_edges = normalize(pd.read_csv(here() / \"data/systematic/human/fixed_length_kernels/eps_graph/8/remove_edges/clustering_histogram/removedge_mmds.csv\"))\n",
    "rewire_edges = normalize(pd.read_csv(here() / \"data/systematic/human/fixed_length_kernels/eps_graph/8/rewire_edges/clustering_histogram/rewireedge_mmds.csv\"))\n",
    "shear = normalize(pd.read_csv(here() / \"data/systematic/human/fixed_length_kernels/eps_graph/8/shear/clustering_histogram/shear_mmds.csv\"))\n",
    "taper = normalize(pd.read_csv(here() / \"data/systematic/human/fixed_length_kernels/eps_graph/8/taper/clustering_histogram/taper_mmds.csv\"))\n",
    "twist = normalize(pd.read_csv(here() / \"data/systematic/human/fixed_length_kernels/eps_graph/8/twist/clustering_histogram/twist_mmds.csv\"))\n",
    "sns.lineplot(data=add_edges, x=\"perturb\", y=\"sigma=0.01\")\n",
    "sns.lineplot(data=remove_edges, x=\"perturb\", y=\"sigma=0.01\")\n",
    "sns.lineplot(data=rewire_edges, x=\"perturb\", y=\"sigma=0.01\")\n",
    "sns.lineplot(data=shear, x=\"perturb\", y=\"sigma=0.01\")\n",
    "sns.lineplot(data=taper, x=\"perturb\", y=\"sigma=0.01\")\n",
    "sns.lineplot(data=twist, x=\"perturb\", y=\"sigma=0.01\")\n",
    "sns.lineplot(data=gaussian_noise, x=\"perturb\", y=\"sigma=0.01\")\n",
    "plt.title(\"Clustering Histogram\")\n"
   ]
  },
  {
   "cell_type": "code",
   "execution_count": null,
   "metadata": {},
   "outputs": [],
   "source": [
    "add_edges = normalize(pd.read_csv(here() / \"data/systematic/human/fixed_length_kernels/eps_graph/8/add_edges/degree_histogram/add_edges_mmds.csv\"))\n",
    "add_edges.sort_values(by=[\"perturb\", \"run\"], inplace=True)\n",
    "gaussian_noise = normalize(pd.read_csv(here() / \"data/systematic/human/fixed_length_kernels/eps_graph/8/gaussian_noise/degree_histogram/gaussian_noise_mmds.csv\"))\n",
    "remove_edges = normalize(pd.read_csv(here() / \"data/systematic/human/fixed_length_kernels/eps_graph/8/remove_edges/degree_histogram/removedge_mmds.csv\"))\n",
    "rewire_edges = normalize(pd.read_csv(here() / \"data/systematic/human/fixed_length_kernels/eps_graph/8/rewire_edges/degree_histogram/rewireedge_mmds.csv\"))\n",
    "shear = normalize(pd.read_csv(here() / \"data/systematic/human/fixed_length_kernels/eps_graph/8/shear/degree_histogram/shear_mmds.csv\"))\n",
    "taper = normalize(pd.read_csv(here() / \"data/systematic/human/fixed_length_kernels/eps_graph/8/taper/degree_histogram/taper_mmds.csv\"))\n",
    "twist = normalize(pd.read_csv(here() / \"data/systematic/human/fixed_length_kernels/eps_graph/8/twist/degree_histogram/twist_mmds.csv\"))\n",
    "sns.lineplot(data=add_edges, x=\"perturb\", y=\"sigma=0.01\")\n",
    "sns.lineplot(data=remove_edges, x=\"perturb\", y=\"sigma=0.01\")\n",
    "sns.lineplot(data=rewire_edges, x=\"perturb\", y=\"sigma=0.01\")\n",
    "sns.lineplot(data=shear, x=\"perturb\", y=\"sigma=0.01\")\n",
    "sns.lineplot(data=taper, x=\"perturb\", y=\"sigma=0.01\")\n",
    "sns.lineplot(data=twist, x=\"perturb\", y=\"sigma=0.01\")\n",
    "sns.lineplot(data=gaussian_noise, x=\"perturb\", y=\"sigma=0.01\")\n",
    "plt.title(\"Degree Histogram\")"
   ]
  },
  {
   "cell_type": "code",
   "execution_count": null,
   "metadata": {},
   "outputs": [],
   "source": [
    "add_edges = normalize(pd.read_csv(here() / \"data/systematic/human/fixed_length_kernels/eps_graph/8/add_edges/laplacian_spectrum_histogram/add_edges_mmds.csv\"))\n",
    "add_edges.sort_values(by=[\"perturb\", \"run\"], inplace=True)\n",
    "gaussian_noise = normalize(pd.read_csv(here() / \"data/systematic/human/fixed_length_kernels/eps_graph/8/gaussian_noise/laplacian_spectrum_histogram/gaussian_noise_mmds.csv\"))\n",
    "remove_edges = normalize(pd.read_csv(here() / \"data/systematic/human/fixed_length_kernels/eps_graph/8/remove_edges/laplacian_spectrum_histogram/remove_edges_mmds.csv\"))\n",
    "rewire_edges = normalize(pd.read_csv(here() / \"data/systematic/human/fixed_length_kernels/eps_graph/8/rewire_edges/laplacian_spectrum_histogram/rewire_edges_mmds.csv\"))\n",
    "shear = normalize(pd.read_csv(here() / \"data/systematic/human/fixed_length_kernels/eps_graph/8/shear/laplacian_spectrum_histogram/shear_mmds.csv\"))\n",
    "taper = normalize(pd.read_csv(here() / \"data/systematic/human/fixed_length_kernels/eps_graph/8/taper/laplacian_spectrum_histogram/taper_mmds.csv\"))\n",
    "twist = normalize(pd.read_csv(here() / \"data/systematic/human/fixed_length_kernels/eps_graph/8/twist/laplacian_spectrum_histogram/twist_mmds.csv\"))\n",
    "sns.lineplot(data=add_edges, x=\"perturb\", y=\"sigma=0.01\")\n",
    "sns.lineplot(data=remove_edges, x=\"perturb\", y=\"sigma=0.01\")\n",
    "sns.lineplot(data=rewire_edges, x=\"perturb\", y=\"sigma=0.01\")\n",
    "sns.lineplot(data=shear, x=\"perturb\", y=\"sigma=0.01\")\n",
    "sns.lineplot(data=taper, x=\"perturb\", y=\"sigma=0.01\")\n",
    "sns.lineplot(data=twist, x=\"perturb\", y=\"sigma=0.01\")\n",
    "sns.lineplot(data=gaussian_noise, x=\"perturb\", y=\"sigma=0.01\")\n",
    "plt.title(\"Laplacian Histogram\")"
   ]
  }
 ],
 "metadata": {
  "kernelspec": {
   "display_name": "Python 3.9.7 ('msc-thesis-8DJZ7_li-py3.9')",
   "language": "python",
   "name": "python3"
  },
  "language_info": {
   "codemirror_mode": {
    "name": "ipython",
    "version": 3
   },
   "file_extension": ".py",
   "mimetype": "text/x-python",
   "name": "python",
   "nbconvert_exporter": "python",
   "pygments_lexer": "ipython3",
   "version": "3.9.7"
  },
  "vscode": {
   "interpreter": {
    "hash": "bfc8117932f586722ded5ecb4ee0997587f16061c0d59f0103330f30d47baa0b"
   }
  }
 },
 "nbformat": 4,
 "nbformat_minor": 2
}
