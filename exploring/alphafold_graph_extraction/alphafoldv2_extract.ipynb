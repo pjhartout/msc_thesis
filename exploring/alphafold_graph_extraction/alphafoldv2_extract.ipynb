{
 "cells": [
  {
   "cell_type": "code",
   "execution_count": null,
   "id": "ed5e055f-e622-4c92-9e14-0dcc52f6eac2",
   "metadata": {},
   "outputs": [],
   "source": [
    "%matplotlib inline\n",
    "import matplotlib.pyplot as plt\n",
    "\n",
    "import logging\n",
    "logging.basicConfig(level=logging.WARNING)\n",
    "\n",
    "from graphein.protein.graphs import construct_graph\n",
    "from graphein.protein.config import ProteinGraphConfig\n",
    "\n",
    "from graphein.protein.utils import download_alphafold_structure"
   ]
  },
  {
   "cell_type": "code",
   "execution_count": null,
   "id": "83b61433-fd47-48de-9920-ef501db0c75b",
   "metadata": {},
   "outputs": [],
   "source": [
    "protein_path = download_alphafold_structure(\"Q8W3K0\", out_dir = \"/tmp\", aligned_score=True)\n",
    "protein_path"
   ]
  },
  {
   "cell_type": "code",
   "execution_count": null,
   "id": "29517043-782b-419e-94c0-3aa3b80113ec",
   "metadata": {},
   "outputs": [],
   "source": []
  },
  {
   "cell_type": "code",
   "execution_count": null,
   "id": "7f671cb8-7779-4c76-b910-5f844823bdac",
   "metadata": {},
   "outputs": [],
   "source": [
    "c = ProteinGraphConfig(granularity='CA')\n",
    "g = construct_graph(pdb_path=protein_path[0])\n"
   ]
  },
  {
   "cell_type": "code",
   "execution_count": null,
   "id": "3ffb5193-9360-4246-a531-40ee19fa2bdd",
   "metadata": {},
   "outputs": [],
   "source": [
    "from graphein.protein.visualisation import plot_protein_structure_graph, plot_pointcloud\n",
    "plot_protein_structure_graph(g, angle=30, colour_edges_by=\"kind\", colour_nodes_by=\"residue_name\", label_node_ids=False)"
   ]
  },
  {
   "cell_type": "code",
   "execution_count": null,
   "id": "f1ad6428-7870-4400-9d76-dadfd0959679",
   "metadata": {},
   "outputs": [],
   "source": [
    "import pickle \n",
    "pickle.dump(g, open('/tmp/graph.txt', 'wb'))"
   ]
  },
  {
   "cell_type": "code",
   "execution_count": null,
   "id": "e9133b32-be70-49b0-b735-617fc59461c8",
   "metadata": {},
   "outputs": [],
   "source": [
    "g = pickle.load(open('/tmp/graph.txt', 'rb'))\n",
    "print(g.edges())"
   ]
  },
  {
   "cell_type": "code",
   "execution_count": null,
   "id": "68630679-3048-46ab-ac41-474b775ffee0",
   "metadata": {},
   "outputs": [],
   "source": []
  },
  {
   "cell_type": "code",
   "execution_count": null,
   "id": "e19c4bd4-b4c3-45ab-bd9d-718e294fc026",
   "metadata": {},
   "outputs": [],
   "source": []
  }
 ],
 "metadata": {
  "kernelspec": {
   "display_name": "msc-thesis-8DJZ7_li-py3.9",
   "language": "python",
   "name": "msc-thesis-8djz7_li-py3.9"
  },
  "language_info": {
   "codemirror_mode": {
    "name": "ipython",
    "version": 3
   },
   "file_extension": ".py",
   "mimetype": "text/x-python",
   "name": "python",
   "nbconvert_exporter": "python",
   "pygments_lexer": "ipython3",
   "version": "3.9.7"
  }
 },
 "nbformat": 4,
 "nbformat_minor": 5
}
