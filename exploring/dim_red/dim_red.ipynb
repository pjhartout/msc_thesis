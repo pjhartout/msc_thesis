{
 "cells": [
  {
   "cell_type": "code",
   "execution_count": null,
   "metadata": {},
   "outputs": [],
   "source": [
    "import os\n",
    "import random\n",
    "import numpy as np\n",
    "import hydra\n",
    "import numpy as np\n",
    "import pandas as pd\n",
    "from fastwlk.kernel import WeisfeilerLehmanKernel\n",
    "from gtda import pipeline\n",
    "from joblib import Parallel, delayed\n",
    "from omegaconf import DictConfig\n",
    "from pyprojroot import here\n",
    "from torch import embedding\n",
    "from tqdm import tqdm\n",
    "\n",
    "from proteinggnnmetrics.descriptors import ESM\n",
    "from proteinggnnmetrics.distance import MaximumMeanDiscrepancy\n",
    "from proteinggnnmetrics.graphs import ContactMap, EpsilonGraph\n",
    "from proteinggnnmetrics.kernels import LinearKernel\n",
    "from proteinggnnmetrics.loaders import list_pdb_files, load_graphs\n",
    "from proteinggnnmetrics.paths import HUMAN_PROTEOME\n",
    "from proteinggnnmetrics.pdb import Coordinates, Sequence\n",
    "from proteinggnnmetrics.perturbations import Mutation\n",
    "from proteinggnnmetrics.utils.functions import (\n",
    "    flatten_lists,\n",
    "    remove_fragments,\n",
    "    tqdm_joblib,\n",
    "    load_obj\n",
    ")\n",
    "import umap\n",
    "\n"
   ]
  },
  {
   "cell_type": "markdown",
   "metadata": {},
   "source": [
    "We want to do  the following\n",
    "1. Load a representation\n",
    "2. Do a dimred on the representation\n",
    "3. Vizualize"
   ]
  },
  {
   "cell_type": "code",
   "execution_count": null,
   "metadata": {},
   "outputs": [],
   "source": [
    "res = load_obj(here() / \"constant_reps.pkl\")"
   ]
  },
  {
   "cell_type": "code",
   "execution_count": null,
   "metadata": {},
   "outputs": [],
   "source": [
    "np.random.seed(42)\n",
    "data = np.random.rand(800, 4)"
   ]
  },
  {
   "cell_type": "code",
   "execution_count": null,
   "metadata": {},
   "outputs": [],
   "source": [
    "fit = umap.UMAP()\n"
   ]
  },
  {
   "cell_type": "code",
   "execution_count": null,
   "metadata": {},
   "outputs": [],
   "source": []
  },
  {
   "cell_type": "code",
   "execution_count": null,
   "metadata": {},
   "outputs": [],
   "source": []
  }
 ],
 "metadata": {
  "interpreter": {
   "hash": "3a8208917d0dafc39089367aefb7539e8e79387e3521b9264ca9bd153c5569a4"
  },
  "kernelspec": {
   "display_name": "Python 3.9.7 ('proteinmetrics-8DJZ7_li-py3.9')",
   "language": "python",
   "name": "python3"
  },
  "language_info": {
   "codemirror_mode": {
    "name": "ipython",
    "version": 3
   },
   "file_extension": ".py",
   "mimetype": "text/x-python",
   "name": "python",
   "nbconvert_exporter": "python",
   "pygments_lexer": "ipython3",
   "version": "3.9.7"
  }
 },
 "nbformat": 4,
 "nbformat_minor": 2
}
