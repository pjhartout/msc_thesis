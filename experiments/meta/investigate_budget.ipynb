{
 "cells": [
  {
   "cell_type": "code",
   "execution_count": null,
   "id": "8023ff73-6988-43c5-bc45-62849ace5ebc",
   "metadata": {},
   "outputs": [],
   "source": [
    "import math\n",
    "import pandas as pd"
   ]
  },
  {
   "cell_type": "code",
   "execution_count": null,
   "id": "95cd03f5-6b47-443a-af4f-3015755c63b7",
   "metadata": {},
   "outputs": [],
   "source": [
    "experiments = pd.read_csv(\"../../data/systematic/experimental_configurations_w_budget.csv\", index_col=0)"
   ]
  },
  {
   "cell_type": "code",
   "execution_count": null,
   "id": "a2aa85f1-3046-4491-9c6f-db0f19aac729",
   "metadata": {},
   "outputs": [],
   "source": [
    "def budget_required(n_cores, n_samples, n_perturb):\n",
    "    budget = experiments['budget'].sum() * n_samples * n_perturb / n_cores / 60 / 60 \n",
    "    print(f\"{round(budget)}h required with {n_cores} CPU cores with {n_samples} samples perturbed {n_perturb} times\")\n",
    "    return budget"
   ]
  },
  {
   "cell_type": "code",
   "execution_count": null,
   "id": "4f7e2358-ea2d-44fb-a844-d8cf6b6bfc91",
   "metadata": {},
   "outputs": [],
   "source": [
    "budget_required(n_cores = 40, n_samples=100, n_perturb=50)"
   ]
  },
  {
   "cell_type": "code",
   "execution_count": null,
   "id": "5f55a41a-8ee4-4d1f-a4c0-f7aa0ca45380",
   "metadata": {},
   "outputs": [],
   "source": [
    "experiments.loc[experiments.descriptors == \"esm\"]"
   ]
  },
  {
   "cell_type": "code",
   "execution_count": null,
   "id": "88fc0168-b133-4b6c-b3e3-e334826c1a24",
   "metadata": {},
   "outputs": [],
   "source": [
    "experiments.loc[experiments.descriptors == \"persistence_diagram\"]"
   ]
  },
  {
   "cell_type": "code",
   "execution_count": null,
   "id": "5a24a673-4f37-4040-94d1-0a04c19bdfbf",
   "metadata": {},
   "outputs": [],
   "source": []
  }
 ],
 "metadata": {
  "kernelspec": {
   "display_name": "Python 3 (ipykernel)",
   "language": "python",
   "name": "python3"
  },
  "language_info": {
   "codemirror_mode": {
    "name": "ipython",
    "version": 3
   },
   "file_extension": ".py",
   "mimetype": "text/x-python",
   "name": "python",
   "nbconvert_exporter": "python",
   "pygments_lexer": "ipython3",
   "version": "3.9.7"
  }
 },
 "nbformat": 4,
 "nbformat_minor": 5
}
